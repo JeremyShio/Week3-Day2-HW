{
 "cells": [
  {
   "cell_type": "markdown",
   "metadata": {},
   "source": [
    "#### Exercise 1 - Class Inheritance"
   ]
  },
  {
   "cell_type": "markdown",
   "metadata": {},
   "source": [
    "Create an Employee class that sets an employee's first name, last name, job title, salary, and email. The Employee class should have a class attribute for the raise amount set to 5% (1.05). Create a method that will apply the raise to an employee's salary."
   ]
  },
  {
   "cell_type": "code",
   "execution_count": null,
   "metadata": {},
   "outputs": [],
   "source": []
  },
  {
   "cell_type": "code",
   "execution_count": 1,
   "metadata": {},
   "outputs": [],
   "source": [
    "# Class for Employee\n",
    "\n",
    "class Employee:\n",
    "    raise_amount = 1.05\n",
    "    \n",
    "    def __init__(self, first_name, last_name, job_title, salary, email):\n",
    "        self.first_name = first_name\n",
    "        self.last_name = last_name\n",
    "        self.job_title = job_title\n",
    "        self.salary = salary\n",
    "        self.email = email\n",
    "    def increase(self):\n",
    "        self.salary = (self.salary * self.raise_amount)\n",
    "        print(self.salary)"
   ]
  },
  {
   "cell_type": "markdown",
   "metadata": {},
   "source": [
    "Create two more classes that inherit from the Employee class. One for Sales and one for Development. Both of these classes will have the same attributes as the Employee.<br>\n",
    "- For the Sales employees, add a phone number attribute on instantiation using the super method. \n",
    "- Create a method on the Sales class that will Send a Follow Up Email. It should take in a customer name and \"send\" aka print a formatted email \"Dear *customer*, Thank you for your interest in our product. Please let me know if you have any questions. My email is *email* or my phone number is *phone number*. Thanks, *full name*\"\n",
    "- Create a method on the Development class called code that will print out \"*full name* is writing code\"."
   ]
  },
  {
   "cell_type": "code",
   "execution_count": 2,
   "metadata": {},
   "outputs": [],
   "source": [
    "class Sales(Employee):\n",
    "    \n",
    "    def __init__(self, first_name, last_name, job_title, salary, email, phone):\n",
    "        super().__init__(first_name, last_name, job_title, salary, email)\n",
    "        self.phone = phone\n",
    "    \n",
    "    def follow_up(self, customer_name):\n",
    "        print(f\"Dear {customer_name}, Thank you for your interest in our product. Please let me know if you have any questions. My email is {self.email} or my phone number is {self.phone}. Thanks, {self.first_name} \")\n",
    "\n",
    "class Developer(Employee):\n",
    "    def coder(self):\n",
    "        print(f\"{self.first_name} {self.last_name} is writing code. \")"
   ]
  },
  {
   "cell_type": "markdown",
   "metadata": {},
   "source": [
    "- Create an instance of a Sales Employee with a salary of $50,000.\n",
    "- Send follow up emails to \"Mike O'Neil\" and \"Hannah Stern\"\n",
    "- Give the employee a raise and print the salary"
   ]
  },
  {
   "cell_type": "code",
   "execution_count": 3,
   "metadata": {},
   "outputs": [
    {
     "name": "stdout",
     "output_type": "stream",
     "text": [
      "Dear Mike O'Neil, Thank you for your interest in our product. Please let me know if you have any questions. My email is PrincessRapunzel@disney.com or my phone number is 5551234567. Thanks, Princess \n",
      "None\n",
      "Dear Hannah Stern, Thank you for your interest in our product. Please let me know if you have any questions. My email is PrincessRapunzel@disney.com or my phone number is 5551234567. Thanks, Princess \n",
      "None\n",
      "50000\n",
      "52500.0\n"
     ]
    }
   ],
   "source": [
    "sales1 = Sales(\"Princess\", \"Rapunzel\", \"Sales\", 50000, \"PrincessRapunzel@disney.com\", \"5551234567\")\n",
    "\n",
    "customer1 = \"Mike O'Neil\"\n",
    "customer2 = \"Hannah Stern\"\n",
    "\n",
    "print(sales1.follow_up(customer1))\n",
    "print(sales1.follow_up(customer2))\n",
    "\n",
    "print(sales1.salary)\n",
    "sales1.increase()"
   ]
  },
  {
   "cell_type": "markdown",
   "metadata": {},
   "source": [
    "- Create an instance of a Development Employee with a salary of $100,000\n",
    "- Write some code with this employee\n",
    "- Give the employee a raise and print the salary"
   ]
  },
  {
   "cell_type": "code",
   "execution_count": 7,
   "metadata": {},
   "outputs": [
    {
     "name": "stdout",
     "output_type": "stream",
     "text": [
      "<bound method Developer.coder of <__main__.Developer object at 0x000001FDEC7123A0>>\n",
      "Leeroy Jenkins is writing code. \n",
      "100000\n",
      "105000.0\n"
     ]
    }
   ],
   "source": [
    "development1 = Developer(\"Leeroy\", \"Jenkins\", \"Development\", 100000, \"PrincessRapunzel@disney.com\")\n",
    "\n",
    "print(development1.coder)\n",
    "development1.coder()\n",
    "\n",
    "print(development1.salary)\n",
    "development1.increase()"
   ]
  },
  {
   "cell_type": "markdown",
   "metadata": {},
   "source": [
    "#### Exercise 2 - Importing Modules"
   ]
  },
  {
   "cell_type": "markdown",
   "metadata": {},
   "source": [
    "In VS Code, create a module titled `geometry` and add two functions in there. One that will calculate the area of a circle given a radius. The second will find the hypotenuse of a right angle given the two sides. Import the module or the functions from the module and use it to find the answers to the below questions"
   ]
  },
  {
   "cell_type": "markdown",
   "metadata": {},
   "source": [
    "What is the area of a circle with a radius of 7cm?"
   ]
  },
  {
   "cell_type": "code",
   "execution_count": 1,
   "metadata": {},
   "outputs": [
    {
     "name": "stdout",
     "output_type": "stream",
     "text": [
      "153.93804002589985\n",
      "Input lengths of shorter triangle sides:\n",
      "5.0\n"
     ]
    },
    {
     "ename": "TypeError",
     "evalue": "radius() takes 0 positional arguments but 1 was given",
     "output_type": "error",
     "traceback": [
      "\u001b[1;31m---------------------------------------------------------------------------\u001b[0m",
      "\u001b[1;31mTypeError\u001b[0m                                 Traceback (most recent call last)",
      "\u001b[1;32mc:\\Users\\Jerem\\Documents\\Coding Temple\\Week3\\Day2\\Homework\\Exercises.ipynb Cell 14\u001b[0m in \u001b[0;36m<cell line: 3>\u001b[1;34m()\u001b[0m\n\u001b[0;32m      <a href='vscode-notebook-cell:/c%3A/Users/Jerem/Documents/Coding%20Temple/Week3/Day2/Homework/Exercises.ipynb#ch0000013?line=0'>1</a>\u001b[0m \u001b[39mfrom\u001b[39;00m \u001b[39mgeometry\u001b[39;00m \u001b[39mimport\u001b[39;00m radius\n\u001b[1;32m----> <a href='vscode-notebook-cell:/c%3A/Users/Jerem/Documents/Coding%20Temple/Week3/Day2/Homework/Exercises.ipynb#ch0000013?line=2'>3</a>\u001b[0m radius(\u001b[39m7\u001b[39;49m)\n",
      "\u001b[1;31mTypeError\u001b[0m: radius() takes 0 positional arguments but 1 was given"
     ]
    }
   ],
   "source": [
    "from geometry import radius\n",
    "\n",
    "radius(7)"
   ]
  },
  {
   "cell_type": "markdown",
   "metadata": {},
   "source": [
    "What is the hypotenuse of a right angle with sides of 3in and 4in?"
   ]
  },
  {
   "cell_type": "code",
   "execution_count": null,
   "metadata": {},
   "outputs": [],
   "source": [
    "from geometry import hypotenuse\n",
    "\n",
    "hypotenuse(3, 4)"
   ]
  },
  {
   "cell_type": "code",
   "execution_count": null,
   "metadata": {},
   "outputs": [],
   "source": []
  }
 ],
 "metadata": {
  "kernelspec": {
   "display_name": "Python 3 (ipykernel)",
   "language": "python",
   "name": "python3"
  },
  "language_info": {
   "codemirror_mode": {
    "name": "ipython",
    "version": 3
   },
   "file_extension": ".py",
   "mimetype": "text/x-python",
   "name": "python",
   "nbconvert_exporter": "python",
   "pygments_lexer": "ipython3",
   "version": "3.9.13"
  },
  "vscode": {
   "interpreter": {
    "hash": "829b5de4ab4fd1954ada4a5f2b22709021a5048cae9a1512fbbbf59543079bf0"
   }
  }
 },
 "nbformat": 4,
 "nbformat_minor": 4
}
